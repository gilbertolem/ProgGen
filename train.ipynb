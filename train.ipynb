{
 "cells": [
  {
   "cell_type": "code",
   "execution_count": null,
   "metadata": {},
   "outputs": [],
   "source": [
    "# http://pytorch.org/\n",
    "from os.path import exists\n",
    "from wheel.pep425tags import get_abbr_impl, get_impl_ver, get_abi_tag\n",
    "platform = '{}{}-{}'.format(get_abbr_impl(), get_impl_ver(), get_abi_tag())\n",
    "cuda_output = !ldconfig -p|grep cudart.so|sed -e 's/.*\\.\\([0-9]*\\)\\.\\([0-9]*\\)$/cu\\1\\2/'\n",
    "accelerator = cuda_output[0] if exists('/dev/nvidia0') else 'cpu'\n",
    "\n",
    "!pip install -q http://download.pytorch.org/whl/{accelerator}/torch-0.4.1-{platform}-linux_x86_64.whl torchvision"
   ]
  },
  {
   "cell_type": "code",
   "execution_count": null,
   "metadata": {},
   "outputs": [],
   "source": [
    "import torch\n",
    "import utils.data_tools as data_tools\n",
    "from utils.nets import ProgGen\n",
    "from pickle import load, dump\n",
    "import matplotlib.pyplot as plt\n",
    "from torch.autograd import Variable\n",
    "xml_directory = \"XML_Tunes/\"\n",
    "use_gpu = torch.cuda.is_available()"
   ]
  },
  {
   "cell_type": "code",
   "execution_count": null,
   "metadata": {},
   "outputs": [],
   "source": [
    "# Load vocabulary\n",
    "words_text2num = load(open(\"maps/words_text2num.txt\",'rb'))\n",
    "vocab_size = len(words_text2num)\n",
    "\n",
    "# Create training data\n",
    "mode = \"all_keys\"\n",
    "filters = {'author':None, 'style':None}\n",
    "X = data_tools.musicxml2tensor(xml_directory, words_text2num, mode = mode, filters = filters) # (Seq x Batch x vocab_size)\n",
    "data = data_tools.TuneData(X)\n",
    "loader = torch.utils.data.DataLoader(data, batch_size = 4)"
   ]
  },
  {
   "cell_type": "code",
   "execution_count": null,
   "metadata": {},
   "outputs": [],
   "source": [
    "# Construct Neural Net\n",
    "input_size = vocab_size\n",
    "hidden_size = 512\n",
    "num_layers = 4\n",
    "dropout = 0.5\n",
    "model = ProgGen(input_size, hidden_size, num_layers, dropout)\n",
    "loss_fn = torch.nn.CrossEntropyLoss()\n",
    "\n",
    "if use_gpu:\n",
    "    model = model.cuda()\n",
    "    loss_fn = loss_fn.cuda()"
   ]
  },
  {
   "cell_type": "code",
   "execution_count": null,
   "metadata": {},
   "outputs": [],
   "source": [
    "# Define loss function and optimizer\n",
    "lr = 1e-2\n",
    "optim = torch.optim.Adam(model.parameters(), lr=lr)"
   ]
  },
  {
   "cell_type": "code",
   "execution_count": null,
   "metadata": {},
   "outputs": [],
   "source": [
    "# Start training\n",
    "epochs = 100        \n",
    "train_loss = []\n",
    "print(\"\\n--------------------------------------------------------------------\")\n",
    "print(\"TRAINING MODEL...\", \"\\n\\nEpoch |\", \"Training Loss |\")\n",
    "for epoch in range(epochs):\n",
    "    \n",
    "    loss = torch.zeros(1)\n",
    "    for batch in loader:\n",
    "        X, Y = batch\n",
    "        Y_target = Y.view(-1)\n",
    "        if use_gpu:\n",
    "            X, Y_target = Variable(X.cuda()), Variable(Y_target.cuda())\n",
    "        \n",
    "        # Forward pass\n",
    "        logits = model(X)\n",
    "        loss += loss_fn(logits, Y_target)\n",
    "        train_loss.append( loss.item() )\n",
    "        \n",
    "        del X, Y, Y_target\n",
    "    \n",
    "    loss /= len(loader)\n",
    "    \n",
    "    # Print to terminal\n",
    "    print(\"{:>5} | {:13} |\".format(epoch, round(loss.item(),6) ) )\n",
    "        \n",
    "    # Backward pass and optimize\n",
    "    optim.zero_grad()\n",
    "    torch.cuda.empty_cache()\n",
    "    loss.backward()\n",
    "    optim.step()\n",
    "    del loss"
   ]
  },
  {
   "cell_type": "code",
   "execution_count": null,
   "metadata": {},
   "outputs": [],
   "source": [
    "dump(model, open('models/model.dat','wb'))\n",
    "plt.plot(train_loss)\n",
    "plt.show()"
   ]
  }
 ],
 "metadata": {
  "kernelspec": {
   "display_name": "Python 3",
   "language": "python",
   "name": "python3"
  },
  "language_info": {
   "codemirror_mode": {
    "name": "ipython",
    "version": 3
   },
   "file_extension": ".py",
   "mimetype": "text/x-python",
   "name": "python",
   "nbconvert_exporter": "python",
   "pygments_lexer": "ipython3",
   "version": "3.6.7"
  }
 },
 "nbformat": 4,
 "nbformat_minor": 2
}
