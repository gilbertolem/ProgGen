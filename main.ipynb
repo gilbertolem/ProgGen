{
 "cells": [
  {
   "cell_type": "markdown",
   "metadata": {},
   "source": [
    "# Set environment"
   ]
  },
  {
   "cell_type": "code",
   "execution_count": null,
   "metadata": {},
   "outputs": [],
   "source": [
    "# # http://pytorch.org/\n",
    "# from os.path import exists\n",
    "# from wheel.pep425tags import get_abbr_impl, get_impl_ver, get_abi_tag\n",
    "# platform = '{}{}-{}'.format(get_abbr_impl(), get_impl_ver(), get_abi_tag())\n",
    "# cuda_output = !ldconfig -p|grep cudart.so|sed -e 's/.*\\.\\([0-9]*\\)\\.\\([0-9]*\\)$/cu\\1\\2/'\n",
    "# accelerator = cuda_output[0] if exists('/dev/nvidia0') else 'cpu'\n",
    "\n",
    "# !pip install -q http://download.pytorch.org/whl/{accelerator}/torch-0.4.1-{platform}-linux_x86_64.whl torchvision"
   ]
  },
  {
   "cell_type": "code",
   "execution_count": null,
   "metadata": {},
   "outputs": [],
   "source": [
    "# !git clone https://github.com/gilbertolem/ProgGen"
   ]
  },
  {
   "cell_type": "code",
   "execution_count": null,
   "metadata": {},
   "outputs": [],
   "source": [
    "# from os import chdir, getcwd\n",
    "# chdir(\"ProgGen\")\n",
    "# from sys import path\n",
    "# path.append(getcwd())"
   ]
  },
  {
   "cell_type": "markdown",
   "metadata": {},
   "source": [
    "# Train"
   ]
  },
  {
   "cell_type": "code",
   "execution_count": 1,
   "metadata": {},
   "outputs": [
    {
     "name": "stdout",
     "output_type": "stream",
     "text": [
      "GPU available: False\n"
     ]
    }
   ],
   "source": [
    "import torch\n",
    "import utils.data_tools as data_tools\n",
    "from utils.nets import ProgGenRNN, WeightedLoss\n",
    "from pickle import load\n",
    "import matplotlib.pyplot as plt\n",
    "from numpy import argmin\n",
    "\n",
    "xml_directory = \"XML_Tunes/\"\n",
    "torch.manual_seed(999)\n",
    "use_gpu = torch.cuda.is_available()\n",
    "print(\"GPU available: {}\".format(use_gpu))"
   ]
  },
  {
   "cell_type": "code",
   "execution_count": 2,
   "metadata": {},
   "outputs": [
    {
     "name": "stdout",
     "output_type": "stream",
     "text": [
      "\nCREATING TENSORS FROM MUSICXML FILES...\n"
     ]
    },
    {
     "name": "stdout",
     "output_type": "stream",
     "text": [
      "\t297 tunes successfully loaded for training.\n\t75 tunes successfully loaded for validation.\n"
     ]
    }
   ],
   "source": [
    "# Load vocabulary\n",
    "words_text2num = load(open(\"maps/words_text2num.txt\",'rb'))\n",
    "vocab_size = len(words_text2num)\n",
    "\n",
    "# Create training data\n",
    "filter_names = ['Charlie Parker']\n",
    "filter_fracs = [1.0]\n",
    "filters = {'names':filter_names, 'frac':filter_fracs}\n",
    "Train, Val = data_tools.musicxml2tensor(xml_directory, words_text2num, filters=filters)\n",
    "train_data = data_tools.TuneData(Train)\n",
    "val_data = data_tools.TuneData(Val)"
   ]
  },
  {
   "cell_type": "code",
   "execution_count": 6,
   "metadata": {},
   "outputs": [],
   "source": [
    "# Construct Neural Net\n",
    "\n",
    "# Embedding type\n",
    "embed_size = 100 \n",
    "\n",
    "# Net Type\n",
    "rnn_type = 'lstm'\n",
    "bidirectional = True\n",
    "\n",
    "# RNN parameters\n",
    "num_layers = 1\n",
    "hidden_rnn = 100\n",
    "dropout_rnn = 0.0\n",
    "\n",
    "# FC layers parameters\n",
    "hidden_fc = 0\n",
    "dropout_fc = 0.0\n",
    "\n",
    "# Create model and loss function\n",
    "model = ProgGenRNN(vocab_size, embed_size, rnn_type, bidirectional, \n",
    "                   hidden_rnn, num_layers, dropout_rnn, \n",
    "                   hidden_fc, dropout_fc)\n",
    "loss_fn = WeightedLoss()\n",
    "\n",
    "# Define loader\n",
    "sampler = torch.utils.data.RandomSampler(train_data)\n",
    "train_loader = torch.utils.data.DataLoader(train_data, batch_size=3000 if use_gpu else 512, sampler=sampler, num_workers=1 if use_gpu else 4)\n",
    "val_loader = torch.utils.data.DataLoader(val_data, batch_size=3000 if use_gpu else 512, num_workers=1 if use_gpu else 4)\n",
    "\n",
    "if use_gpu:\n",
    "    model = model.cuda()\n",
    "    loss_fn = loss_fn.cuda()"
   ]
  },
  {
   "cell_type": "code",
   "execution_count": 7,
   "metadata": {},
   "outputs": [],
   "source": [
    "# Define loss function and optimizer\n",
    "lr = 1e-2\n",
    "optim = torch.optim.Adam(model.parameters(), lr=lr)"
   ]
  },
  {
   "cell_type": "code",
   "execution_count": 8,
   "metadata": {},
   "outputs": [
    {
     "name": "stdout",
     "output_type": "stream",
     "text": [
      "\n--------------------------------------------------------------------\nTRAINING MODEL... \n\n   Epoch | Training Loss | Val. Loss\n"
     ]
    },
    {
     "name": "stdout",
     "output_type": "stream",
     "text": [
      "       0 |          5.49 |      5.47\n"
     ]
    },
    {
     "name": "stdout",
     "output_type": "stream",
     "text": [
      "       1 |          3.93 |      3.66\n"
     ]
    },
    {
     "name": "stdout",
     "output_type": "stream",
     "text": [
      "       2 |          3.14 |      2.84\n"
     ]
    },
    {
     "name": "stdout",
     "output_type": "stream",
     "text": [
      "       3 |          3.11 |      2.78\n"
     ]
    },
    {
     "name": "stdout",
     "output_type": "stream",
     "text": [
      "       4 |          2.84 |      2.61\n"
     ]
    },
    {
     "name": "stdout",
     "output_type": "stream",
     "text": [
      "       5 |          2.63 |      2.48\n"
     ]
    },
    {
     "name": "stdout",
     "output_type": "stream",
     "text": [
      "       6 |          2.55 |      2.42\n"
     ]
    },
    {
     "name": "stdout",
     "output_type": "stream",
     "text": [
      "       7 |          2.46 |      2.35\n"
     ]
    },
    {
     "name": "stdout",
     "output_type": "stream",
     "text": [
      "       8 |          2.34 |      2.24\n"
     ]
    },
    {
     "name": "stdout",
     "output_type": "stream",
     "text": [
      "       9 |          2.22 |      2.13\n"
     ]
    },
    {
     "name": "stdout",
     "output_type": "stream",
     "text": [
      "      10 |          2.11 |      2.03\n"
     ]
    },
    {
     "name": "stdout",
     "output_type": "stream",
     "text": [
      "      11 |          2.02 |      1.96\n"
     ]
    },
    {
     "name": "stdout",
     "output_type": "stream",
     "text": [
      "      12 |          1.95 |       1.9\n"
     ]
    },
    {
     "name": "stdout",
     "output_type": "stream",
     "text": [
      "      13 |           1.9 |      1.86\n"
     ]
    },
    {
     "name": "stdout",
     "output_type": "stream",
     "text": [
      "      14 |          1.86 |      1.83\n"
     ]
    },
    {
     "name": "stdout",
     "output_type": "stream",
     "text": [
      "      15 |          1.83 |       1.8\n"
     ]
    },
    {
     "name": "stdout",
     "output_type": "stream",
     "text": [
      "      16 |           1.8 |      1.77\n"
     ]
    },
    {
     "name": "stdout",
     "output_type": "stream",
     "text": [
      "      17 |          1.77 |      1.75\n"
     ]
    },
    {
     "name": "stdout",
     "output_type": "stream",
     "text": [
      "      18 |          1.74 |      1.73\n"
     ]
    },
    {
     "name": "stdout",
     "output_type": "stream",
     "text": [
      "      19 |          1.71 |       1.7\n"
     ]
    },
    {
     "name": "stdout",
     "output_type": "stream",
     "text": [
      "      20 |          1.68 |      1.68\n"
     ]
    },
    {
     "name": "stdout",
     "output_type": "stream",
     "text": [
      "      21 |          1.66 |      1.65\n"
     ]
    },
    {
     "name": "stdout",
     "output_type": "stream",
     "text": [
      "      22 |          1.63 |      1.63\n"
     ]
    },
    {
     "name": "stdout",
     "output_type": "stream",
     "text": [
      "      23 |          1.61 |      1.61\n"
     ]
    },
    {
     "name": "stdout",
     "output_type": "stream",
     "text": [
      "      24 |          1.59 |      1.58\n"
     ]
    },
    {
     "name": "stdout",
     "output_type": "stream",
     "text": [
      "      25 |          1.57 |      1.56\n"
     ]
    },
    {
     "name": "stdout",
     "output_type": "stream",
     "text": [
      "      26 |          1.55 |      1.54\n"
     ]
    },
    {
     "name": "stdout",
     "output_type": "stream",
     "text": [
      "      27 |          1.53 |      1.52\n"
     ]
    },
    {
     "name": "stdout",
     "output_type": "stream",
     "text": [
      "      28 |          1.51 |       1.5\n"
     ]
    },
    {
     "name": "stdout",
     "output_type": "stream",
     "text": [
      "      29 |           1.5 |      1.49\n"
     ]
    },
    {
     "name": "stdout",
     "output_type": "stream",
     "text": [
      "      30 |          1.49 |      1.48\n"
     ]
    },
    {
     "name": "stdout",
     "output_type": "stream",
     "text": [
      "      31 |          1.47 |      1.47\n"
     ]
    },
    {
     "name": "stdout",
     "output_type": "stream",
     "text": [
      "      32 |          1.46 |      1.46\n"
     ]
    },
    {
     "name": "stdout",
     "output_type": "stream",
     "text": [
      "      33 |          1.45 |      1.45\n"
     ]
    },
    {
     "name": "stdout",
     "output_type": "stream",
     "text": [
      "      34 |          1.44 |      1.44\n"
     ]
    },
    {
     "name": "stdout",
     "output_type": "stream",
     "text": [
      "      35 |          1.43 |      1.43\n"
     ]
    },
    {
     "name": "stdout",
     "output_type": "stream",
     "text": [
      "      36 |          1.42 |      1.42\n"
     ]
    },
    {
     "name": "stdout",
     "output_type": "stream",
     "text": [
      "      37 |          1.41 |      1.41\n"
     ]
    },
    {
     "name": "stdout",
     "output_type": "stream",
     "text": [
      "      38 |           1.4 |      1.41\n"
     ]
    },
    {
     "name": "stdout",
     "output_type": "stream",
     "text": [
      "      39 |          1.39 |      1.41\n"
     ]
    },
    {
     "name": "stdout",
     "output_type": "stream",
     "text": [
      "      40 |          1.39 |       1.4\n"
     ]
    },
    {
     "name": "stdout",
     "output_type": "stream",
     "text": [
      "      41 |          1.38 |       1.4\n"
     ]
    },
    {
     "name": "stdout",
     "output_type": "stream",
     "text": [
      "      42 |          1.37 |       1.4\n"
     ]
    },
    {
     "name": "stdout",
     "output_type": "stream",
     "text": [
      "      43 |          1.37 |       1.4\n"
     ]
    },
    {
     "name": "stdout",
     "output_type": "stream",
     "text": [
      "      44 |          1.36 |       1.4\n"
     ]
    },
    {
     "name": "stdout",
     "output_type": "stream",
     "text": [
      "      45 |          1.35 |       1.4\n"
     ]
    },
    {
     "name": "stdout",
     "output_type": "stream",
     "text": [
      "      46 |          1.35 |       1.4\n"
     ]
    },
    {
     "name": "stdout",
     "output_type": "stream",
     "text": [
      "      47 |          1.34 |       1.4\n"
     ]
    },
    {
     "name": "stdout",
     "output_type": "stream",
     "text": [
      "      48 |          1.34 |       1.4\n"
     ]
    },
    {
     "name": "stdout",
     "output_type": "stream",
     "text": [
      "      49 |          1.33 |       1.4\n"
     ]
    },
    {
     "name": "stdout",
     "output_type": "stream",
     "text": [
      "      50 |          1.33 |       1.4\n"
     ]
    },
    {
     "name": "stdout",
     "output_type": "stream",
     "text": [
      "      51 |          1.32 |       1.4\n"
     ]
    },
    {
     "name": "stdout",
     "output_type": "stream",
     "text": [
      "      52 |          1.32 |      1.41\n"
     ]
    },
    {
     "name": "stdout",
     "output_type": "stream",
     "text": [
      "      53 |          1.31 |       1.4\n"
     ]
    },
    {
     "name": "stdout",
     "output_type": "stream",
     "text": [
      "      54 |          1.31 |       1.4\n"
     ]
    },
    {
     "name": "stdout",
     "output_type": "stream",
     "text": [
      "      55 |          1.31 |       1.4\n"
     ]
    },
    {
     "name": "stdout",
     "output_type": "stream",
     "text": [
      "      56 |           1.3 |       1.4\n"
     ]
    },
    {
     "name": "stdout",
     "output_type": "stream",
     "text": [
      "      57 |           1.3 |       1.4\n"
     ]
    },
    {
     "name": "stdout",
     "output_type": "stream",
     "text": [
      "      58 |           1.3 |       1.4\n"
     ]
    },
    {
     "name": "stdout",
     "output_type": "stream",
     "text": [
      "      59 |          1.29 |       1.4\n"
     ]
    },
    {
     "name": "stdout",
     "output_type": "stream",
     "text": [
      "      60 |          1.29 |       1.4\n"
     ]
    },
    {
     "name": "stdout",
     "output_type": "stream",
     "text": [
      "      61 |          1.28 |       1.4\n"
     ]
    },
    {
     "name": "stdout",
     "output_type": "stream",
     "text": [
      "      62 |          1.28 |       1.4\n"
     ]
    },
    {
     "name": "stdout",
     "output_type": "stream",
     "text": [
      "      63 |          1.27 |       1.4\n"
     ]
    },
    {
     "name": "stdout",
     "output_type": "stream",
     "text": [
      "      64 |          1.27 |      1.39\n"
     ]
    },
    {
     "name": "stdout",
     "output_type": "stream",
     "text": [
      "      65 |          1.26 |      1.39\n"
     ]
    },
    {
     "name": "stdout",
     "output_type": "stream",
     "text": [
      "      66 |          1.26 |      1.39\n"
     ]
    },
    {
     "name": "stdout",
     "output_type": "stream",
     "text": [
      "      67 |          1.26 |      1.39\n"
     ]
    },
    {
     "name": "stdout",
     "output_type": "stream",
     "text": [
      "      68 |          1.25 |      1.39\n"
     ]
    },
    {
     "name": "stdout",
     "output_type": "stream",
     "text": [
      "      69 |          1.24 |      1.39\n"
     ]
    },
    {
     "name": "stdout",
     "output_type": "stream",
     "text": [
      "      70 |          1.23 |       1.4\n"
     ]
    },
    {
     "name": "stdout",
     "output_type": "stream",
     "text": [
      "      71 |          1.24 |       1.4\n"
     ]
    },
    {
     "name": "stdout",
     "output_type": "stream",
     "text": [
      "      72 |          1.24 |       1.4\n"
     ]
    },
    {
     "name": "stdout",
     "output_type": "stream",
     "text": [
      "      73 |          1.23 |       1.4\n"
     ]
    },
    {
     "name": "stdout",
     "output_type": "stream",
     "text": [
      "      74 |          1.23 |      1.39\n"
     ]
    },
    {
     "name": "stdout",
     "output_type": "stream",
     "text": [
      "      75 |          1.22 |       1.4\n"
     ]
    },
    {
     "name": "stdout",
     "output_type": "stream",
     "text": [
      "      76 |          1.21 |      1.41\nBest Loss:\n\tTrain: 1.2481709718704224\n\tVal: 1.3918592929840088\n"
     ]
    }
   ],
   "source": [
    "from utils.training import train\n",
    "epochs = 500\n",
    "losses = train(epochs, model, optim, train_loader, val_loader, loss_fn, use_gpu)\n",
    "\n",
    "idx = argmin(losses[1])\n",
    "print(\"Best Loss:\\n\\tTrain: {}\\n\\tVal: {}\".format(losses[0][idx], losses[1][idx]))\n",
    "\n",
    "plt.semilogy(losses[0], label='Train')\n",
    "plt.semilogy(losses[1], label='Val')\n",
    "plt.legend()\n",
    "plt.show()"
   ]
  },
  {
   "cell_type": "markdown",
   "metadata": {},
   "source": [
    "# Generate something"
   ]
  },
  {
   "cell_type": "code",
   "execution_count": 14,
   "metadata": {},
   "outputs": [
    {
     "name": "stdout",
     "output_type": "stream",
     "text": [
      "Generated Progression:\n\nCm             |F7             |F7             |Bb7            |\nEb7            |Eb7            |Abmaj          |Gm7b5   C7alt  |\nFm      Bb7    |Ebmaj          |Ebmaj          |Fm      Bb7alt |\nEbm     Ab7    |C#m     F#7    |Bmaj           |C#m     F#7    |\nBm      E7     |Amaj           |Amaj           |Amaj           |\nAmaj           |Amaj           |Amaj           |Amaj           |\nAmaj           |Amaj           |\n"
     ]
    }
   ],
   "source": [
    "from utils.generating import generate_progression\n",
    "\n",
    "model_name = \"model\"\n",
    "initial_chord = \"4C_m\"\n",
    "tune_len = 32\n",
    "top = 2\n",
    "\n",
    "prog = generate_progression(initial_chord, tune_len, top, model_name, verbose = False)\n",
    "print(\"Generated Progression:\\n\")\n",
    "print(prog)"
   ]
  },
  {
   "cell_type": "code",
   "execution_count": null,
   "metadata": {},
   "outputs": [],
   "source": []
  }
 ],
 "metadata": {
  "kernelspec": {
   "display_name": "Python 3",
   "language": "python",
   "name": "python3"
  },
  "language_info": {
   "codemirror_mode": {
    "name": "ipython",
    "version": 3
   },
   "file_extension": ".py",
   "mimetype": "text/x-python",
   "name": "python",
   "nbconvert_exporter": "python",
   "pygments_lexer": "ipython3",
   "version": "3.6.7"
  }
 },
 "nbformat": 4,
 "nbformat_minor": 2
}
