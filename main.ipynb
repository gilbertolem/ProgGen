{
 "cells": [
  {
   "cell_type": "markdown",
   "metadata": {},
   "source": [
    "# Set environment (Only for usage with Google Colab)"
   ]
  },
  {
   "cell_type": "code",
   "execution_count": null,
   "metadata": {},
   "outputs": [],
   "source": [
    "# # http://pytorch.org/\n",
    "# from os.path import exists\n",
    "# from wheel.pep425tags import get_abbr_impl, get_impl_ver, get_abi_tag\n",
    "# platform = '{}{}-{}'.format(get_abbr_impl(), get_impl_ver(), get_abi_tag())\n",
    "# cuda_output = !ldconfig -p|grep cudart.so|sed -e 's/.*\\.\\([0-9]*\\)\\.\\([0-9]*\\)$/cu\\1\\2/'\n",
    "# accelerator = cuda_output[0] if exists('/dev/nvidia0') else 'cpu'\n",
    "\n",
    "# !pip install -q http://download.pytorch.org/whl/{accelerator}/torch-0.4.1-{platform}-linux_x86_64.whl torchvision"
   ]
  },
  {
   "cell_type": "code",
   "execution_count": null,
   "metadata": {},
   "outputs": [],
   "source": [
    "# !git clone https://github.com/gilbertolem/ProgGen"
   ]
  },
  {
   "cell_type": "code",
   "execution_count": null,
   "metadata": {},
   "outputs": [],
   "source": [
    "# from os import chdir, getcwd\n",
    "# chdir(\"ProgGen\")\n",
    "# from sys import path\n",
    "# path.append(getcwd())"
   ]
  },
  {
   "cell_type": "markdown",
   "metadata": {},
   "source": [
    "# Import Libraries"
   ]
  },
  {
   "cell_type": "code",
   "execution_count": 1,
   "metadata": {},
   "outputs": [
    {
     "name": "stdout",
     "output_type": "stream",
     "text": [
      "GPU available: False\n"
     ]
    }
   ],
   "source": [
    "import torch\n",
    "import utils.data_tools as data_tools\n",
    "from utils.nets import ProgGenRNN, WeightedLoss\n",
    "from pickle import load\n",
    "import matplotlib.pyplot as plt\n",
    "from numpy import argmin\n",
    "\n",
    "xml_directory = \"XML_Tunes/\"\n",
    "torch.manual_seed(999)\n",
    "use_gpu = torch.cuda.is_available()\n",
    "print(\"GPU available: {}\".format(use_gpu))"
   ]
  },
  {
   "cell_type": "markdown",
   "metadata": {},
   "source": [
    "# Load Vocabulary"
   ]
  },
  {
   "cell_type": "code",
   "execution_count": 2,
   "metadata": {},
   "outputs": [],
   "source": [
    "words_text2num = load(open(\"maps/words_text2num.txt\",'rb'))\n",
    "vocab_size = len(words_text2num)"
   ]
  },
  {
   "cell_type": "markdown",
   "metadata": {},
   "source": [
    "# Create training data"
   ]
  },
  {
   "cell_type": "code",
   "execution_count": 3,
   "metadata": {},
   "outputs": [
    {
     "name": "stdout",
     "output_type": "stream",
     "text": [
      "\n",
      "CREATING TENSORS FROM MUSICXML FILES...\n",
      "\t297 tunes successfully loaded for training.\n",
      "\t75 tunes successfully loaded for validation.\n"
     ]
    }
   ],
   "source": [
    "filter_names = ['Charlie Parker']\n",
    "filter_fracs = [1.0]\n",
    "\n",
    "filters = {'names':filter_names, 'frac':filter_fracs}\n",
    "Train, Val = data_tools.musicxml2tensor(xml_directory, words_text2num, filters=filters)\n",
    "train_data = data_tools.TuneData(Train)\n",
    "val_data = data_tools.TuneData(Val)"
   ]
  },
  {
   "cell_type": "markdown",
   "metadata": {},
   "source": [
    "# Construct Neural Net"
   ]
  },
  {
   "cell_type": "code",
   "execution_count": 4,
   "metadata": {},
   "outputs": [],
   "source": [
    "# Embedding type\n",
    "embed_size = 100 \n",
    "\n",
    "# Net Type\n",
    "rnn_type = 'lstm'\n",
    "bidirectional = True\n",
    "\n",
    "# RNN parameters\n",
    "num_layers = 1\n",
    "hidden_rnn = 100\n",
    "dropout_rnn = 0.0\n",
    "\n",
    "# FC layers parameters\n",
    "hidden_fc = 0\n",
    "dropout_fc = 0.0\n",
    "\n",
    "# Create model and loss function\n",
    "model = ProgGenRNN(vocab_size, embed_size, rnn_type, bidirectional, \n",
    "                   hidden_rnn, num_layers, dropout_rnn, \n",
    "                   hidden_fc, dropout_fc)\n",
    "loss_fn = WeightedLoss()\n",
    "\n",
    "# Define loader\n",
    "sampler = torch.utils.data.RandomSampler(train_data)\n",
    "train_loader = torch.utils.data.DataLoader(train_data, batch_size=3000 if use_gpu else 512, sampler=sampler, num_workers=1 if use_gpu else 4)\n",
    "val_loader = torch.utils.data.DataLoader(val_data, batch_size=3000 if use_gpu else 512, num_workers=1 if use_gpu else 4)\n",
    "\n",
    "if use_gpu:\n",
    "    model = model.cuda()\n",
    "    loss_fn = loss_fn.cuda()"
   ]
  },
  {
   "cell_type": "markdown",
   "metadata": {},
   "source": [
    "# Define loss function and optimizer"
   ]
  },
  {
   "cell_type": "code",
   "execution_count": 5,
   "metadata": {},
   "outputs": [],
   "source": [
    "lr = 1e-2\n",
    "optim = torch.optim.Adam(model.parameters(), lr=lr)"
   ]
  },
  {
   "cell_type": "markdown",
   "metadata": {},
   "source": [
    "# Train net"
   ]
  },
  {
   "cell_type": "code",
   "execution_count": 6,
   "metadata": {},
   "outputs": [
    {
     "name": "stdout",
     "output_type": "stream",
     "text": [
      "\n",
      "--------------------------------------------------------------------\n",
      "TRAINING MODEL... \n",
      "\n",
      "   Epoch | Training Loss | Val. Loss\n",
      "       0 |          5.45 |      5.43\n",
      "       1 |          3.86 |      3.58\n",
      "       2 |          3.14 |      2.84\n",
      "       3 |          3.08 |      2.76\n",
      "       4 |          2.86 |      2.63\n",
      "       5 |          2.65 |       2.5\n",
      "       6 |          2.54 |      2.43\n",
      "       7 |          2.45 |      2.36\n",
      "       8 |          2.33 |      2.26\n",
      "       9 |          2.21 |      2.15\n",
      "      10 |           2.1 |      2.04\n",
      "      11 |          2.01 |      1.96\n",
      "      12 |          1.94 |      1.89\n",
      "      13 |          1.89 |      1.84\n",
      "      14 |          1.85 |      1.81\n",
      "      15 |          1.81 |      1.79\n",
      "      16 |          1.78 |      1.77\n",
      "      17 |          1.76 |      1.75\n",
      "      18 |          1.73 |      1.72\n",
      "      19 |           1.7 |       1.7\n",
      "      20 |          1.67 |      1.67\n",
      "      21 |          1.65 |      1.64\n",
      "      22 |          1.62 |      1.62\n",
      "      23 |          1.61 |      1.59\n",
      "      24 |          1.58 |      1.57\n",
      "      25 |          1.56 |      1.55\n",
      "      26 |          1.54 |      1.53\n",
      "      27 |          1.53 |      1.51\n",
      "      28 |          1.51 |       1.5\n",
      "      29 |           1.5 |      1.48\n",
      "      30 |          1.48 |      1.47\n",
      "      31 |          1.47 |      1.46\n",
      "      32 |          1.46 |      1.45\n",
      "      33 |          1.45 |      1.44\n",
      "      34 |          1.44 |      1.43\n",
      "      35 |          1.43 |      1.42\n",
      "      36 |          1.42 |      1.42\n",
      "      37 |          1.41 |      1.41\n",
      "      38 |           1.4 |      1.41\n",
      "      39 |          1.39 |       1.4\n",
      "      40 |          1.39 |       1.4\n",
      "      41 |          1.38 |       1.4\n",
      "      42 |          1.37 |       1.4\n",
      "      43 |          1.37 |       1.4\n",
      "      44 |          1.36 |       1.4\n",
      "      45 |          1.35 |      1.39\n",
      "      46 |          1.35 |      1.39\n",
      "      47 |          1.34 |      1.39\n",
      "      48 |          1.34 |      1.39\n",
      "      49 |          1.33 |      1.39\n",
      "      50 |          1.33 |      1.39\n",
      "      51 |          1.32 |      1.39\n",
      "      52 |          1.31 |      1.39\n",
      "      53 |          1.31 |      1.39\n",
      "      54 |          1.31 |      1.39\n",
      "      55 |           1.3 |      1.39\n",
      "      56 |           1.3 |      1.39\n",
      "      57 |           1.3 |      1.39\n",
      "      58 |          1.28 |      1.39\n",
      "      59 |          1.28 |      1.39\n",
      "      60 |          1.28 |      1.39\n",
      "      61 |          1.27 |      1.39\n",
      "      62 |          1.27 |      1.39\n",
      "      63 |          1.26 |      1.38\n",
      "      64 |          1.25 |      1.41\n",
      "Best Loss:\n",
      "\tTrain: 1.2647205591201782\n",
      "\tVal: 1.3832660913467407\n"
     ]
    },
    {
     "data": {
      "image/png": "[encoded data removed]",
      "text/plain": [
       "<Figure size 432x288 with 1 Axes>"
      ]
     },
     "metadata": {
      "needs_background": "light"
     },
     "output_type": "display_data"
    }
   ],
   "source": [
    "from utils.training import train\n",
    "epochs = 500\n",
    "losses = train(epochs, model, optim, train_loader, val_loader, loss_fn, use_gpu)\n",
    "\n",
    "idx = argmin(losses[1])\n",
    "print(\"Best Loss:\\n\\tTrain: {}\\n\\tVal: {}\".format(losses[0][idx], losses[1][idx]))\n",
    "\n",
    "plt.semilogy(losses[0], label='Train')\n",
    "plt.semilogy(losses[1], label='Val')\n",
    "plt.legend()\n",
    "plt.show()"
   ]
  },
  {
   "cell_type": "markdown",
   "metadata": {},
   "source": [
    "# Generate something"
   ]
  },
  {
   "cell_type": "code",
   "execution_count": 8,
   "metadata": {},
   "outputs": [
    {
     "name": "stdout",
     "output_type": "stream",
     "text": [
      "Generated Progression:\n",
      "\n",
      "Cm             |F7             |Bbmaj          |Bbmaj          |\n",
      "Cm      F7     |Bbmaj          |Am7b5   D7alt  |Em      A7     |\n",
      "Dmaj           |Dmaj           |Dm             |G7             |\n",
      "C7             |Fmaj           |Bm7b5   E7alt  |D7     |\n",
      "Emaj           |Emaj           |F#7            |F#7            |\n",
      "B7             |B7             |E7             |A7             |\n",
      "Dmaj           |C#m7b5  F#7alt |Bm             |Bm             |\n",
      "E7             |Amaj           |Am      Abm    |Fm7b5   Bb7alt |\n",
      "Ebm     Ab7alt |\n"
     ]
    }
   ],
   "source": [
    "from utils.generating import generate_progression\n",
    "\n",
    "model_name = \"model\"\n",
    "initial_chord = \"4C_m\"\n",
    "tune_len = 40\n",
    "top = 10\n",
    "\n",
    "prog = generate_progression(initial_chord, tune_len, top, model_name, verbose = False)\n",
    "print(\"Generated Progression:\\n\")\n",
    "print(prog)"
   ]
  },
  {
   "cell_type": "code",
   "execution_count": null,
   "metadata": {},
   "outputs": [],
   "source": []
  }
 ],
 "metadata": {
  "kernelspec": {
   "display_name": "Python 3",
   "language": "python",
   "name": "python3"
  },
  "language_info": {
   "codemirror_mode": {
    "name": "ipython",
    "version": 3
   },
   "file_extension": ".py",
   "mimetype": "text/x-python",
   "name": "python",
   "nbconvert_exporter": "python",
   "pygments_lexer": "ipython3",
   "version": "3.6.7"
  }
 },
 "nbformat": 4,
 "nbformat_minor": 2
}
