{
 "cells": [
  {
   "cell_type": "markdown",
   "metadata": {},
   "source": [
    "# Set environment"
   ]
  },
  {
   "cell_type": "code",
   "execution_count": null,
   "metadata": {},
   "outputs": [],
   "source": [
    "# # http://pytorch.org/\n",
    "# from os.path import exists\n",
    "# from wheel.pep425tags import get_abbr_impl, get_impl_ver, get_abi_tag\n",
    "# platform = '{}{}-{}'.format(get_abbr_impl(), get_impl_ver(), get_abi_tag())\n",
    "# cuda_output = !ldconfig -p|grep cudart.so|sed -e 's/.*\\.\\([0-9]*\\)\\.\\([0-9]*\\)$/cu\\1\\2/'\n",
    "# accelerator = cuda_output[0] if exists('/dev/nvidia0') else 'cpu'\n",
    "\n",
    "# !pip install -q http://download.pytorch.org/whl/{accelerator}/torch-0.4.1-{platform}-linux_x86_64.whl torchvision"
   ]
  },
  {
   "cell_type": "code",
   "execution_count": null,
   "metadata": {},
   "outputs": [],
   "source": [
    "# !git clone https://github.com/gilbertolem/ProgGen"
   ]
  },
  {
   "cell_type": "code",
   "execution_count": null,
   "metadata": {},
   "outputs": [],
   "source": [
    "# from os import chdir, getcwd\n",
    "# chdir(\"ProgGen\")\n",
    "# from sys import path\n",
    "# path.append(getcwd())"
   ]
  },
  {
   "cell_type": "markdown",
   "metadata": {},
   "source": [
    "# Train"
   ]
  },
  {
   "cell_type": "code",
   "execution_count": null,
   "metadata": {},
   "outputs": [],
   "source": [
    "import torch\n",
    "import utils.data_tools as data_tools\n",
    "from utils.nets import ProgGen_RNN\n",
    "from pickle import load, dump\n",
    "import matplotlib.pyplot as plt\n",
    "\n",
    "xml_directory = \"XML_Tunes/\"\n",
    "torch.manual_seed(999)\n",
    "use_gpu = torch.cuda.is_available()"
   ]
  },
  {
   "cell_type": "code",
   "execution_count": null,
   "metadata": {},
   "outputs": [],
   "source": [
    "# Load vocabulary\n",
    "words_text2num = load(open(\"maps/words_text2num.txt\",'rb'))\n",
    "vocab_size = len(words_text2num)\n",
    "\n",
    "# Create training data\n",
    "filters = {'author':'Charlie Parker', 'style':None}\n",
    "X_train, X_val = data_tools.musicxml2tensor(xml_directory, words_text2num, filters = filters) # (Seq x Batch x vocab_size)\n",
    "train_data = data_tools.TuneData(X_train)\n",
    "val_data = data_tools.TuneData(X_val)"
   ]
  },
  {
   "cell_type": "code",
   "execution_count": null,
   "metadata": {},
   "outputs": [],
   "source": [
    "# Construct Neural Net\n",
    "embed_size = 100\n",
    "hidden_size = 256\n",
    "num_layers = 1\n",
    "dropout = 0\n",
    "bidirectional = False\n",
    "rnn_type = 'lstm'\n",
    "model = ProgGen_RNN(rnn_type, vocab_size, embed_size, hidden_size, num_layers, dropout, bidirectional)\n",
    "loss_fn = torch.nn.CrossEntropyLoss()\n",
    "\n",
    "# Define loader\n",
    "sampler = torch.utils.data.RandomSampler(train_data)\n",
    "train_loader = torch.utils.data.DataLoader(train_data, batch_size = 372, sampler = sampler, num_workers = 1 if use_gpu else 4)\n",
    "val_loader = torch.utils.data.DataLoader(val_data, batch_size = 372, num_workers = 1 if use_gpu else 4)\n",
    "\n",
    "if use_gpu:\n",
    "    model = model.cuda()\n",
    "    loss_fn = loss_fn.cuda()"
   ]
  },
  {
   "cell_type": "code",
   "execution_count": null,
   "metadata": {},
   "outputs": [],
   "source": [
    "# Define loss function and optimizer\n",
    "lr = 1e-2\n",
    "optim = torch.optim.Adam(model.parameters(), lr=lr)"
   ]
  },
  {
   "cell_type": "code",
   "execution_count": null,
   "metadata": {},
   "outputs": [],
   "source": [
    "from utils.training import train\n",
    "epochs = 500\n",
    "losses = train(epochs, model, optim, train_loader, val_loader, loss_fn, use_gpu)"
   ]
  },
  {
   "cell_type": "code",
   "execution_count": null,
   "metadata": {},
   "outputs": [],
   "source": [
    "plt.semilogy(losses[0], label='Train')\n",
    "plt.semilogy(losses[1], label='Val')\n",
    "plt.legend()\n",
    "plt.show()\n",
    "import numpy as np\n",
    "print(losses[0][-1])\n",
    "print(losses[1][-1])\n",
    "idx = np.argmin(losses[1])\n",
    "print(losses[0][idx])\n",
    "print(losses[1][idx])"
   ]
  },
  {
   "cell_type": "markdown",
   "metadata": {},
   "source": [
    "# Generate something"
   ]
  },
  {
   "cell_type": "code",
   "execution_count": null,
   "metadata": {},
   "outputs": [],
   "source": [
    "from utils.generating import generate_progression\n",
    "\n",
    "model_name = \"model\"\n",
    "initial_chord = \"4C_maj\"\n",
    "tune_len = 32\n",
    "top = 10\n",
    "\n",
    "prog = generate_progression(initial_chord, tune_len, top, model_name, verbose = False)\n",
    "print(\"Generated Progression:\\n\")\n",
    "print(prog)"
   ]
  },
  {
   "cell_type": "code",
   "execution_count": null,
   "metadata": {},
   "outputs": [],
   "source": []
  }
 ],
 "metadata": {
  "kernelspec": {
   "display_name": "Python 3",
   "language": "python",
   "name": "python3"
  },
  "language_info": {
   "codemirror_mode": {
    "name": "ipython",
    "version": 3
   },
   "file_extension": ".py",
   "mimetype": "text/x-python",
   "name": "python",
   "nbconvert_exporter": "python",
   "pygments_lexer": "ipython3",
   "version": "3.6.7"
  }
 },
 "nbformat": 4,
 "nbformat_minor": 2
}
