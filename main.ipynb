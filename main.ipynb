{
 "cells": [
  {
   "cell_type": "markdown",
   "metadata": {},
   "source": [
    "# Set environment (Only for usage with Google Colab)"
   ]
  },
  {
   "cell_type": "code",
   "execution_count": null,
   "metadata": {},
   "outputs": [],
   "source": [
    "# # http://pytorch.org/\n",
    "# from os.path import exists\n",
    "# from wheel.pep425tags import get_abbr_impl, get_impl_ver, get_abi_tag\n",
    "# platform = '{}{}-{}'.format(get_abbr_impl(), get_impl_ver(), get_abi_tag())\n",
    "# cuda_output = !ldconfig -p|grep cudart.so|sed -e 's/.*\\.\\([0-9]*\\)\\.\\([0-9]*\\)$/cu\\1\\2/'\n",
    "# accelerator = cuda_output[0] if exists('/dev/nvidia0') else 'cpu'\n",
    "\n",
    "# !pip install -q http://download.pytorch.org/whl/{accelerator}/torch-0.4.1-{platform}-linux_x86_64.whl torchvision"
   ]
  },
  {
   "cell_type": "code",
   "execution_count": null,
   "metadata": {},
   "outputs": [],
   "source": [
    "# !git clone https://github.com/gilbertolem/ProgGen"
   ]
  },
  {
   "cell_type": "code",
   "execution_count": null,
   "metadata": {},
   "outputs": [],
   "source": [
    "# from os import chdir, getcwd\n",
    "# chdir(\"ProgGen\")\n",
    "# from sys import path\n",
    "# path.append(getcwd())"
   ]
  },
  {
   "cell_type": "markdown",
   "metadata": {},
   "source": [
    "# Import Libraries"
   ]
  },
  {
   "cell_type": "code",
   "execution_count": null,
   "metadata": {},
   "outputs": [],
   "source": [
    "import torch\n",
    "import utils.data_tools as data_tools\n",
    "from utils.nets import ProgGenRNN, WeightedLoss\n",
    "from pickle import load\n",
    "import matplotlib.pyplot as plt\n",
    "from numpy import argmin\n",
    "\n",
    "xml_directory = \"XML_Tunes/\"\n",
    "torch.manual_seed(999)\n",
    "use_gpu = torch.cuda.is_available()\n",
    "print(\"GPU available: {}\".format(use_gpu))"
   ]
  },
  {
   "cell_type": "markdown",
   "metadata": {},
   "source": [
    "# Load Vocabulary"
   ]
  },
  {
   "cell_type": "code",
   "execution_count": null,
   "metadata": {},
   "outputs": [],
   "source": [
    "words_text2num = load(open(\"maps/words_text2num.txt\",'rb'))\n",
    "vocab_size = len(words_text2num)"
   ]
  },
  {
   "cell_type": "markdown",
   "metadata": {},
   "source": [
    "# Create training data"
   ]
  },
  {
   "cell_type": "code",
   "execution_count": null,
   "metadata": {},
   "outputs": [],
   "source": [
    "filter_names = ['Charlie Parker']\n",
    "filter_fracs = [1.0]\n",
    "\n",
    "filters = {'names':filter_names, 'frac':filter_fracs}\n",
    "Train, Val = data_tools.musicxml2tensor(xml_directory, words_text2num, filters=filters)\n",
    "train_data = data_tools.TuneData(Train)\n",
    "val_data = data_tools.TuneData(Val)"
   ]
  },
  {
   "cell_type": "markdown",
   "metadata": {},
   "source": [
    "# Construct Neural Net"
   ]
  },
  {
   "cell_type": "code",
   "execution_count": null,
   "metadata": {},
   "outputs": [],
   "source": [
    "# Embedding type\n",
    "embed_size = 100 \n",
    "\n",
    "# Net Type\n",
    "rnn_type = 'lstm'\n",
    "bidirectional = True\n",
    "\n",
    "# RNN parameters\n",
    "num_layers = 1\n",
    "hidden_rnn = 100\n",
    "dropout_rnn = 0.0\n",
    "\n",
    "# FC layers parameters\n",
    "hidden_fc = 0\n",
    "dropout_fc = 0.0\n",
    "\n",
    "# Create model and loss function\n",
    "model = ProgGenRNN(vocab_size, embed_size, rnn_type, bidirectional, \n",
    "                   hidden_rnn, num_layers, dropout_rnn, \n",
    "                   hidden_fc, dropout_fc)\n",
    "loss_fn = WeightedLoss()\n",
    "\n",
    "# Define loader\n",
    "sampler = torch.utils.data.RandomSampler(train_data)\n",
    "train_loader = torch.utils.data.DataLoader(train_data, batch_size=3000 if use_gpu else 512, sampler=sampler, num_workers=1 if use_gpu else 4)\n",
    "val_loader = torch.utils.data.DataLoader(val_data, batch_size=3000 if use_gpu else 512, num_workers=1 if use_gpu else 4)\n",
    "\n",
    "if use_gpu:\n",
    "    model = model.cuda()\n",
    "    loss_fn = loss_fn.cuda()"
   ]
  },
  {
   "cell_type": "markdown",
   "metadata": {},
   "source": [
    "# Define loss function and optimizer"
   ]
  },
  {
   "cell_type": "code",
   "execution_count": null,
   "metadata": {},
   "outputs": [],
   "source": [
    "lr = 1e-2\n",
    "optim = torch.optim.Adam(model.parameters(), lr=lr)"
   ]
  },
  {
   "cell_type": "markdown",
   "metadata": {},
   "source": [
    "# Train net"
   ]
  },
  {
   "cell_type": "code",
   "execution_count": null,
   "metadata": {},
   "outputs": [],
   "source": [
    "from utils.training import train\n",
    "epochs = 500\n",
    "losses = train(epochs, model, optim, train_loader, val_loader, loss_fn, use_gpu)\n",
    "\n",
    "idx = argmin(losses[1])\n",
    "print(\"Best Loss:\\n\\tTrain: {}\\n\\tVal: {}\".format(losses[0][idx], losses[1][idx]))\n",
    "\n",
    "plt.semilogy(losses[0], label='Train')\n",
    "plt.semilogy(losses[1], label='Val')\n",
    "plt.legend()\n",
    "plt.show()"
   ]
  },
  {
   "cell_type": "markdown",
   "metadata": {},
   "source": [
    "# Generate something"
   ]
  },
  {
   "cell_type": "code",
   "execution_count": null,
   "metadata": {},
   "outputs": [],
   "source": [
    "from utils.generating import generate_progression\n",
    "\n",
    "model_name = \"model\"\n",
    "initial_chord = \"4C_m\"\n",
    "tune_len = 32\n",
    "top = 2\n",
    "\n",
    "prog = generate_progression(initial_chord, tune_len, top, model_name, verbose = False)\n",
    "print(\"Generated Progression:\\n\")\n",
    "print(prog)"
   ]
  },
  {
   "cell_type": "code",
   "execution_count": null,
   "metadata": {},
   "outputs": [],
   "source": []
  }
 ],
 "metadata": {
  "kernelspec": {
   "display_name": "Python 3",
   "language": "python",
   "name": "python3"
  },
  "language_info": {
   "codemirror_mode": {
    "name": "ipython",
    "version": 3
   },
   "file_extension": ".py",
   "mimetype": "text/x-python",
   "name": "python",
   "nbconvert_exporter": "python",
   "pygments_lexer": "ipython3",
   "version": "3.6.7"
  }
 },
 "nbformat": 4,
 "nbformat_minor": 2
}
